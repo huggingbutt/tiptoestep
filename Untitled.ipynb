{
 "cells": [
  {
   "cell_type": "code",
   "execution_count": 1,
   "id": "b0aa4113-2fe3-4b27-b84b-d51bed58bb76",
   "metadata": {},
   "outputs": [],
   "source": [
    "from hbagent.env import Env\n",
    "from hbagent.agent import Agent"
   ]
  },
  {
   "cell_type": "code",
   "execution_count": 2,
   "id": "9a3c9e03-3d92-4b75-ae2c-2e3ce828743e",
   "metadata": {},
   "outputs": [],
   "source": [
    "agent = Agent(0)"
   ]
  },
  {
   "cell_type": "code",
   "execution_count": null,
   "id": "a7107c86-3217-4bf1-9ad7-858d868411e4",
   "metadata": {},
   "outputs": [],
   "source": [
    "env = Env(pid=123, env_id=1456, agent=agent, exe_file=\"/Users/admin/codes/csharp/hbagent/roller_ball_2/build.app/Contents/MacOS/roller_ball\")"
   ]
  },
  {
   "cell_type": "code",
   "execution_count": null,
   "id": "d5dd4c58-de1c-419b-ac66-990c1ba8fb25",
   "metadata": {},
   "outputs": [],
   "source": [
    "obs, info = env.reset()"
   ]
  },
  {
   "cell_type": "code",
   "execution_count": null,
   "id": "25ff6aa1-da02-47bc-a9b8-4a7a3da618ef",
   "metadata": {},
   "outputs": [],
   "source": [
    "obs, reward, terminated, truncated, info = env.step([-1.0, 1.0])\n",
    "print(obs, reward, terminated, truncated, info)"
   ]
  },
  {
   "cell_type": "code",
   "execution_count": null,
   "id": "2554e04c-de60-4a30-914d-9ee0b8b7deba",
   "metadata": {},
   "outputs": [],
   "source": [
    "env.close()"
   ]
  },
  {
   "cell_type": "code",
   "execution_count": null,
   "id": "8c765fcb-cdd4-4453-aef1-435a4bc01dc7",
   "metadata": {},
   "outputs": [],
   "source": [
    "from hbagent.proto import MessageType, StepType"
   ]
  },
  {
   "cell_type": "code",
   "execution_count": null,
   "id": "20139fa3-eb14-4b65-b816-4a9e8bf0ce53",
   "metadata": {},
   "outputs": [],
   "source": [
    "MessageType.Observation.value"
   ]
  },
  {
   "cell_type": "code",
   "execution_count": null,
   "id": "eb709593-eadf-4da4-8532-753686e99d23",
   "metadata": {},
   "outputs": [],
   "source": [
    "StepType.Step.value"
   ]
  },
  {
   "cell_type": "code",
   "execution_count": 3,
   "id": "809d240d-96e2-4bd1-ae43-f62461b063f6",
   "metadata": {},
   "outputs": [],
   "source": [
    "from stable_baselines3 import PPO"
   ]
  },
  {
   "cell_type": "code",
   "execution_count": null,
   "id": "947a3dbc-3665-4884-a754-0abde01d180c",
   "metadata": {},
   "outputs": [],
   "source": [
    "model = PPO(\"MlpPolicy\", env, verbose=1)"
   ]
  },
  {
   "cell_type": "code",
   "execution_count": null,
   "id": "c142d986-b197-4776-84db-84c19625524c",
   "metadata": {
    "scrolled": true
   },
   "outputs": [],
   "source": [
    "model.learn(total_timesteps=200000)"
   ]
  },
  {
   "cell_type": "code",
   "execution_count": null,
   "id": "f19a045e-aca4-4cb0-9bcd-847e36fcfb9b",
   "metadata": {},
   "outputs": [],
   "source": [
    "model.save(\"roller_ball.zip\")"
   ]
  },
  {
   "cell_type": "code",
   "execution_count": null,
   "id": "524d5b70-a1c6-4a53-857f-28190954bd22",
   "metadata": {},
   "outputs": [],
   "source": [
    "model.get_env()"
   ]
  },
  {
   "cell_type": "code",
   "execution_count": null,
   "id": "f374aff2-a10a-4457-b9ec-27a7442ade54",
   "metadata": {},
   "outputs": [],
   "source": [
    "env = "
   ]
  },
  {
   "cell_type": "code",
   "execution_count": 4,
   "id": "42d507ab-39c4-4d12-b06c-849957ffc31e",
   "metadata": {},
   "outputs": [],
   "source": [
    "exe_file = \"/Users/admin/codes/csharp/hbagent/roller_ball_2/build.app/Contents/MacOS/roller_ball\""
   ]
  },
  {
   "cell_type": "code",
   "execution_count": 5,
   "id": "3a225924-31a8-4964-a7da-b7ac226bb764",
   "metadata": {},
   "outputs": [],
   "source": [
    "from stable_baselines3.common.vec_env import DummyVecEnv, SubprocVecEnv"
   ]
  },
  {
   "cell_type": "code",
   "execution_count": 6,
   "id": "206c11be-dc9f-4fea-b3be-fc8c843d1635",
   "metadata": {},
   "outputs": [],
   "source": [
    "def make_env(pid):\n",
    "    def _init():\n",
    "        env = Env(pid=pid, env_id=1, agent=agent, exe_file=exe_file)\n",
    "        return env\n",
    "    return _init"
   ]
  },
  {
   "cell_type": "code",
   "execution_count": 7,
   "id": "d12ef083-c94e-4196-b833-f31601e462b5",
   "metadata": {},
   "outputs": [],
   "source": [
    "import multiprocessing"
   ]
  },
  {
   "cell_type": "code",
   "execution_count": 9,
   "id": "5e149ce8-63d7-4704-b6ae-b4a69d1f20bf",
   "metadata": {},
   "outputs": [
    {
     "data": {
      "text/plain": [
       "8"
      ]
     },
     "execution_count": 9,
     "metadata": {},
     "output_type": "execute_result"
    }
   ],
   "source": [
    "multiprocessing.cpu_count()"
   ]
  },
  {
   "cell_type": "code",
   "execution_count": 10,
   "id": "47054c3b-4982-4b66-be12-04166218fbb7",
   "metadata": {},
   "outputs": [],
   "source": [
    "envs = [make_env(pid) for pid in range(8)]"
   ]
  },
  {
   "cell_type": "code",
   "execution_count": 11,
   "id": "557da366-083f-4621-b6fc-5c0101389f48",
   "metadata": {},
   "outputs": [],
   "source": [
    "subproc_envs = SubprocVecEnv(envs)"
   ]
  },
  {
   "cell_type": "code",
   "execution_count": null,
   "id": "da42f755-1a03-4342-b1d0-e51b92bb201c",
   "metadata": {},
   "outputs": [],
   "source": [
    "env1 = dummy_env.envs[0]\n",
    "env2 = dummy_env.envs[0]\n",
    "env3 = dummy_env.envs[0]\n",
    "env4 = dummy_env.envs[0]"
   ]
  },
  {
   "cell_type": "code",
   "execution_count": null,
   "id": "8910093c-f3b2-4de1-bbc2-8d55dc044395",
   "metadata": {},
   "outputs": [],
   "source": [
    "for env in envs:\n",
    "    env.close()"
   ]
  },
  {
   "cell_type": "code",
   "execution_count": null,
   "id": "9d731c46-2e75-4f54-9b95-e8a768774628",
   "metadata": {},
   "outputs": [],
   "source": [
    "for env in dummy_env.envs:\n",
    "    env.close()"
   ]
  },
  {
   "cell_type": "code",
   "execution_count": 12,
   "id": "9dbe9b06-9bde-4539-94b2-e9e77b8107d4",
   "metadata": {},
   "outputs": [
    {
     "name": "stdout",
     "output_type": "stream",
     "text": [
      "Using cpu device\n"
     ]
    }
   ],
   "source": [
    "model = PPO(\"MlpPolicy\", subproc_envs, verbose=1)"
   ]
  },
  {
   "cell_type": "code",
   "execution_count": 13,
   "id": "d1547c08-6f73-408e-b091-29db61dacf93",
   "metadata": {},
   "outputs": [
    {
     "name": "stdout",
     "output_type": "stream",
     "text": [
      "------------------------------\n",
      "| time/              |       |\n",
      "|    fps             | 41    |\n",
      "|    iterations      | 1     |\n",
      "|    time_elapsed    | 396   |\n",
      "|    total_timesteps | 16384 |\n",
      "------------------------------\n",
      "------------------------------------------\n",
      "| time/                   |              |\n",
      "|    fps                  | 40           |\n",
      "|    iterations           | 2            |\n",
      "|    time_elapsed         | 800          |\n",
      "|    total_timesteps      | 32768        |\n",
      "| train/                  |              |\n",
      "|    approx_kl            | 0.0062437323 |\n",
      "|    clip_fraction        | 0.0611       |\n",
      "|    clip_range           | 0.2          |\n",
      "|    entropy_loss         | -2.81        |\n",
      "|    explained_variance   | 0.17         |\n",
      "|    learning_rate        | 0.0003       |\n",
      "|    loss                 | 0.00398      |\n",
      "|    n_updates            | 10           |\n",
      "|    policy_gradient_loss | -0.00447     |\n",
      "|    std                  | 0.984        |\n",
      "|    value_loss           | 0.0208       |\n",
      "------------------------------------------\n",
      "------------------------------------------\n",
      "| time/                   |              |\n",
      "|    fps                  | 40           |\n",
      "|    iterations           | 3            |\n",
      "|    time_elapsed         | 1201         |\n",
      "|    total_timesteps      | 49152        |\n",
      "| train/                  |              |\n",
      "|    approx_kl            | 0.0085619595 |\n",
      "|    clip_fraction        | 0.102        |\n",
      "|    clip_range           | 0.2          |\n",
      "|    entropy_loss         | -2.78        |\n",
      "|    explained_variance   | 0.447        |\n",
      "|    learning_rate        | 0.0003       |\n",
      "|    loss                 | -0.00766     |\n",
      "|    n_updates            | 20           |\n",
      "|    policy_gradient_loss | -0.00896     |\n",
      "|    std                  | 0.966        |\n",
      "|    value_loss           | 0.0148       |\n",
      "------------------------------------------\n",
      "----------------------------------------\n",
      "| time/                   |            |\n",
      "|    fps                  | 40         |\n",
      "|    iterations           | 4          |\n",
      "|    time_elapsed         | 1619       |\n",
      "|    total_timesteps      | 65536      |\n",
      "| train/                  |            |\n",
      "|    approx_kl            | 0.01170245 |\n",
      "|    clip_fraction        | 0.154      |\n",
      "|    clip_range           | 0.2        |\n",
      "|    entropy_loss         | -2.73      |\n",
      "|    explained_variance   | 0.601      |\n",
      "|    learning_rate        | 0.0003     |\n",
      "|    loss                 | 0.018      |\n",
      "|    n_updates            | 30         |\n",
      "|    policy_gradient_loss | -0.0146    |\n",
      "|    std                  | 0.942      |\n",
      "|    value_loss           | 0.0197     |\n",
      "----------------------------------------\n",
      "-----------------------------------------\n",
      "| time/                   |             |\n",
      "|    fps                  | 40          |\n",
      "|    iterations           | 5           |\n",
      "|    time_elapsed         | 2010        |\n",
      "|    total_timesteps      | 81920       |\n",
      "| train/                  |             |\n",
      "|    approx_kl            | 0.014216067 |\n",
      "|    clip_fraction        | 0.19        |\n",
      "|    clip_range           | 0.2         |\n",
      "|    entropy_loss         | -2.67       |\n",
      "|    explained_variance   | 0.699       |\n",
      "|    learning_rate        | 0.0003      |\n",
      "|    loss                 | 0.027       |\n",
      "|    n_updates            | 40          |\n",
      "|    policy_gradient_loss | -0.0206     |\n",
      "|    std                  | 0.914       |\n",
      "|    value_loss           | 0.0244      |\n",
      "-----------------------------------------\n",
      "------------------------------------------\n",
      "| time/                   |              |\n",
      "|    fps                  | 40           |\n",
      "|    iterations           | 6            |\n",
      "|    time_elapsed         | 2403         |\n",
      "|    total_timesteps      | 98304        |\n",
      "| train/                  |              |\n",
      "|    approx_kl            | 0.0137889795 |\n",
      "|    clip_fraction        | 0.189        |\n",
      "|    clip_range           | 0.2          |\n",
      "|    entropy_loss         | -2.61        |\n",
      "|    explained_variance   | 0.764        |\n",
      "|    learning_rate        | 0.0003       |\n",
      "|    loss                 | -0.0302      |\n",
      "|    n_updates            | 50           |\n",
      "|    policy_gradient_loss | -0.0215      |\n",
      "|    std                  | 0.889        |\n",
      "|    value_loss           | 0.0202       |\n",
      "------------------------------------------\n",
      "-----------------------------------------\n",
      "| time/                   |             |\n",
      "|    fps                  | 41          |\n",
      "|    iterations           | 7           |\n",
      "|    time_elapsed         | 2794        |\n",
      "|    total_timesteps      | 114688      |\n",
      "| train/                  |             |\n",
      "|    approx_kl            | 0.015610175 |\n",
      "|    clip_fraction        | 0.202       |\n",
      "|    clip_range           | 0.2         |\n",
      "|    entropy_loss         | -2.55       |\n",
      "|    explained_variance   | 0.83        |\n",
      "|    learning_rate        | 0.0003      |\n",
      "|    loss                 | 0.0147      |\n",
      "|    n_updates            | 60          |\n",
      "|    policy_gradient_loss | -0.0222     |\n",
      "|    std                  | 0.862       |\n",
      "|    value_loss           | 0.0143      |\n",
      "-----------------------------------------\n",
      "---------------------------------------\n",
      "| time/                   |           |\n",
      "|    fps                  | 41        |\n",
      "|    iterations           | 8         |\n",
      "|    time_elapsed         | 3185      |\n",
      "|    total_timesteps      | 131072    |\n",
      "| train/                  |           |\n",
      "|    approx_kl            | 0.0156976 |\n",
      "|    clip_fraction        | 0.187     |\n",
      "|    clip_range           | 0.2       |\n",
      "|    entropy_loss         | -2.47     |\n",
      "|    explained_variance   | 0.866     |\n",
      "|    learning_rate        | 0.0003    |\n",
      "|    loss                 | -0.0284   |\n",
      "|    n_updates            | 70        |\n",
      "|    policy_gradient_loss | -0.0204   |\n",
      "|    std                  | 0.829     |\n",
      "|    value_loss           | 0.00858   |\n",
      "---------------------------------------\n",
      "-----------------------------------------\n",
      "| time/                   |             |\n",
      "|    fps                  | 41          |\n",
      "|    iterations           | 9           |\n",
      "|    time_elapsed         | 3575        |\n",
      "|    total_timesteps      | 147456      |\n",
      "| train/                  |             |\n",
      "|    approx_kl            | 0.012651218 |\n",
      "|    clip_fraction        | 0.15        |\n",
      "|    clip_range           | 0.2         |\n",
      "|    entropy_loss         | -2.4        |\n",
      "|    explained_variance   | 0.866       |\n",
      "|    learning_rate        | 0.0003      |\n",
      "|    loss                 | 0.0204      |\n",
      "|    n_updates            | 80          |\n",
      "|    policy_gradient_loss | -0.0148     |\n",
      "|    std                  | 0.802       |\n",
      "|    value_loss           | 0.00589     |\n",
      "-----------------------------------------\n",
      "------------------------------------------\n",
      "| time/                   |              |\n",
      "|    fps                  | 41           |\n",
      "|    iterations           | 10           |\n",
      "|    time_elapsed         | 3968         |\n",
      "|    total_timesteps      | 163840       |\n",
      "| train/                  |              |\n",
      "|    approx_kl            | 0.0124395415 |\n",
      "|    clip_fraction        | 0.157        |\n",
      "|    clip_range           | 0.2          |\n",
      "|    entropy_loss         | -2.35        |\n",
      "|    explained_variance   | 0.836        |\n",
      "|    learning_rate        | 0.0003       |\n",
      "|    loss                 | 0.000353     |\n",
      "|    n_updates            | 90           |\n",
      "|    policy_gradient_loss | -0.0158      |\n",
      "|    std                  | 0.778        |\n",
      "|    value_loss           | 0.00421      |\n",
      "------------------------------------------\n",
      "-----------------------------------------\n",
      "| time/                   |             |\n",
      "|    fps                  | 41          |\n",
      "|    iterations           | 11          |\n",
      "|    time_elapsed         | 4363        |\n",
      "|    total_timesteps      | 180224      |\n",
      "| train/                  |             |\n",
      "|    approx_kl            | 0.011717276 |\n",
      "|    clip_fraction        | 0.149       |\n",
      "|    clip_range           | 0.2         |\n",
      "|    entropy_loss         | -2.28       |\n",
      "|    explained_variance   | 0.845       |\n",
      "|    learning_rate        | 0.0003      |\n",
      "|    loss                 | -0.0155     |\n",
      "|    n_updates            | 100         |\n",
      "|    policy_gradient_loss | -0.0131     |\n",
      "|    std                  | 0.754       |\n",
      "|    value_loss           | 0.00292     |\n",
      "-----------------------------------------\n",
      "-----------------------------------------\n",
      "| time/                   |             |\n",
      "|    fps                  | 41          |\n",
      "|    iterations           | 12          |\n",
      "|    time_elapsed         | 4757        |\n",
      "|    total_timesteps      | 196608      |\n",
      "| train/                  |             |\n",
      "|    approx_kl            | 0.014001623 |\n",
      "|    clip_fraction        | 0.17        |\n",
      "|    clip_range           | 0.2         |\n",
      "|    entropy_loss         | -2.2        |\n",
      "|    explained_variance   | 0.816       |\n",
      "|    learning_rate        | 0.0003      |\n",
      "|    loss                 | -0.0142     |\n",
      "|    n_updates            | 110         |\n",
      "|    policy_gradient_loss | -0.0129     |\n",
      "|    std                  | 0.725       |\n",
      "|    value_loss           | 0.00223     |\n",
      "-----------------------------------------\n",
      "-----------------------------------------\n",
      "| time/                   |             |\n",
      "|    fps                  | 41          |\n",
      "|    iterations           | 13          |\n",
      "|    time_elapsed         | 5151        |\n",
      "|    total_timesteps      | 212992      |\n",
      "| train/                  |             |\n",
      "|    approx_kl            | 0.013526831 |\n",
      "|    clip_fraction        | 0.165       |\n",
      "|    clip_range           | 0.2         |\n",
      "|    entropy_loss         | -2.14       |\n",
      "|    explained_variance   | 0.859       |\n",
      "|    learning_rate        | 0.0003      |\n",
      "|    loss                 | 0.0054      |\n",
      "|    n_updates            | 120         |\n",
      "|    policy_gradient_loss | -0.0101     |\n",
      "|    std                  | 0.7         |\n",
      "|    value_loss           | 0.00215     |\n",
      "-----------------------------------------\n"
     ]
    },
    {
     "data": {
      "text/plain": [
       "<stable_baselines3.ppo.ppo.PPO at 0x16234f250>"
      ]
     },
     "execution_count": 13,
     "metadata": {},
     "output_type": "execute_result"
    }
   ],
   "source": [
    "model.learn(total_timesteps=200000)"
   ]
  },
  {
   "cell_type": "code",
   "execution_count": 19,
   "id": "392d6817-361b-4fef-804c-c068db2645d7",
   "metadata": {},
   "outputs": [],
   "source": [
    "subproc_envs.close()"
   ]
  },
  {
   "cell_type": "code",
   "execution_count": 20,
   "id": "713b394b-f325-4167-9267-807ad231c665",
   "metadata": {},
   "outputs": [],
   "source": [
    "env = Env(pid=123, env_id=1456, agent=agent, exe_file=\"/Users/admin/codes/csharp/hbagent/roller_ball_2/build.app/Contents/MacOS/roller_ball\")"
   ]
  },
  {
   "cell_type": "code",
   "execution_count": 21,
   "id": "70b63b88-72f8-409c-a571-71d1de57f8fa",
   "metadata": {},
   "outputs": [],
   "source": [
    "from stable_baselines3.common.evaluation import evaluate_policy"
   ]
  },
  {
   "cell_type": "code",
   "execution_count": 22,
   "id": "b1fb910d-c302-4181-b04d-2e3a53cbbee1",
   "metadata": {},
   "outputs": [
    {
     "name": "stderr",
     "output_type": "stream",
     "text": [
      "/Users/admin/miniconda3/envs/hb/lib/python3.9/site-packages/stable_baselines3/common/evaluation.py:67: UserWarning: Evaluation environment is not wrapped with a ``Monitor`` wrapper. This may result in reporting modified episode lengths and rewards, if other wrappers happen to modify these. Consider wrapping environment first with ``Monitor`` wrapper.\n",
      "  warnings.warn(\n"
     ]
    },
    {
     "data": {
      "text/plain": [
       "(1.0, 0.0)"
      ]
     },
     "execution_count": 22,
     "metadata": {},
     "output_type": "execute_result"
    }
   ],
   "source": [
    "evaluate_policy(model, env, n_eval_episodes=10)"
   ]
  },
  {
   "cell_type": "code",
   "execution_count": 23,
   "id": "2aaa6fa9-1797-4921-8a51-e26e75c64013",
   "metadata": {},
   "outputs": [],
   "source": [
    "env.close()"
   ]
  },
  {
   "cell_type": "code",
   "execution_count": null,
   "id": "0c6ca7e3-a0bb-4509-9ebe-f3f0d24eee31",
   "metadata": {},
   "outputs": [],
   "source": []
  }
 ],
 "metadata": {
  "kernelspec": {
   "display_name": "Python 3 (ipykernel)",
   "language": "python",
   "name": "python3"
  },
  "language_info": {
   "codemirror_mode": {
    "name": "ipython",
    "version": 3
   },
   "file_extension": ".py",
   "mimetype": "text/x-python",
   "name": "python",
   "nbconvert_exporter": "python",
   "pygments_lexer": "ipython3",
   "version": "3.11.5"
  }
 },
 "nbformat": 4,
 "nbformat_minor": 5
}
