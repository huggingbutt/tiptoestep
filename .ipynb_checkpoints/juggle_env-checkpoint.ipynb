{
 "cells": [
  {
   "cell_type": "code",
   "execution_count": 1,
   "id": "09135338-65d9-420c-a69d-f89c2b7a470e",
   "metadata": {},
   "outputs": [],
   "source": [
    "from  hbagent.env import Env\n",
    "from hbagent.agent import Agent\n",
    "from stable_baselines3.common.monitor import Monitor"
   ]
  },
  {
   "cell_type": "code",
   "execution_count": 2,
   "id": "859d2de6-d982-4d2a-bb85-a73613381024",
   "metadata": {},
   "outputs": [],
   "source": [
    "agent = Agent(0)"
   ]
  },
  {
   "cell_type": "code",
   "execution_count": 3,
   "id": "4707a405-5d58-48d5-9153-0261ac4f7d00",
   "metadata": {},
   "outputs": [],
   "source": [
    "exe_file = \"/Users/admin/libs/Juggle/juggle.app/Contents/MacOS/roller_ball\""
   ]
  },
  {
   "cell_type": "code",
   "execution_count": 4,
   "id": "ae852515-31ba-4121-80e2-b98f4841064a",
   "metadata": {},
   "outputs": [],
   "source": [
    "def make_env(pid):\n",
    "    def _init():\n",
    "        env = Monitor(Env(pid=pid, env_id=1, agent=agent, exe_file=exe_file))\n",
    "        return env\n",
    "    return _init"
   ]
  },
  {
   "cell_type": "code",
   "execution_count": 5,
   "id": "e208bbec-37fd-4f61-a8a8-08f3eed1eb4b",
   "metadata": {},
   "outputs": [],
   "source": [
    "env = Monitor(Env(pid=0, env_id=1, agent=agent, exe_file=exe_file))"
   ]
  },
  {
   "cell_type": "code",
   "execution_count": 22,
   "id": "b69f2809-9ecf-4a6d-830a-e4670748efb6",
   "metadata": {},
   "outputs": [
    {
     "name": "stdout",
     "output_type": "stream",
     "text": [
      "{}\n",
      "RECEIVED:{'pid': 0, 'env_id': 1, 'agent_id': 0, 'step_id': 0, 'obs_frame_id': 17673, 'act_frame_id': 17673, 'silent': False, 'message_type': 0, 'step_type': 2, 'observation': {'ball_position_x': 1.7899781465530396, 'ball_position_y': 5, 'ball_position_z': 1.6591066122055054, 'ball_velocity_x': 0, 'ball_velocity_y': 0, 'ball_velocity_z': 0, 'ball_rotation_x': 0, 'ball_rotation_y': 0, 'ball_rotation_z': 0, 'ball_rotation_w': 1, 'ball_angular_velocity_x': 0, 'ball_angular_velocity_y': 0, 'ball_angular_velocity_z': 0, 'player_position_x': 0, 'player_position_y': 1, 'player_position_z': 0, 'player_velocity_x': 0, 'player_velocity_y': 0, 'player_velocity_z': 0, 'player_rotation_x': 0, 'player_rotation_y': 0, 'player_rotation_z': 0, 'player_rotation_w': 1, 'player_angular_velocity_x': 0, 'player_angular_velocity_y': 0, 'player_angular_velocity_z': 0, 'diff': 0, 'previous_diff': 0, 'collied': False}, 'action': None, 'cmds': None}\n",
      "New observation step_id:0, env step_id:5.\n",
      "response:{}\n"
     ]
    },
    {
     "data": {
      "text/plain": [
       "(array([1.78997815, 5.        , 1.65910661, 0.        , 0.        ,\n",
       "        0.        , 0.        , 0.        , 0.        , 1.        ,\n",
       "        0.        , 0.        , 0.        , 0.        , 1.        ,\n",
       "        0.        , 0.        , 0.        , 0.        , 0.        ,\n",
       "        0.        , 0.        , 1.        , 0.        , 0.        ,\n",
       "        0.        ]),\n",
       " {})"
      ]
     },
     "execution_count": 22,
     "metadata": {},
     "output_type": "execute_result"
    }
   ],
   "source": [
    "env.reset()"
   ]
  },
  {
   "cell_type": "code",
   "execution_count": 27,
   "id": "6dee7260-2cf7-4a43-b747-a4c2681ae856",
   "metadata": {},
   "outputs": [
    {
     "name": "stdout",
     "output_type": "stream",
     "text": [
      "{}\n",
      "Step ID 4\n",
      "RECEIVED:{'pid': 0, 'env_id': 1, 'agent_id': 0, 'step_id': 5, 'obs_frame_id': 19953, 'act_frame_id': 19943, 'silent': False, 'message_type': 0, 'step_type': 2, 'observation': {'ball_position_x': 1.7899781465530396, 'ball_position_y': 1.4566292762756348, 'ball_position_z': 1.6591066122055054, 'ball_velocity_x': 0, 'ball_velocity_y': -8.240397453308105, 'ball_velocity_z': 0, 'ball_rotation_x': 0, 'ball_rotation_y': 0, 'ball_rotation_z': 0, 'ball_rotation_w': 1, 'ball_angular_velocity_x': 0, 'ball_angular_velocity_y': 0, 'ball_angular_velocity_z': 0, 'player_position_x': -2.802596928649634e-44, 'player_position_y': 1, 'player_position_z': 6.981082060314342e-21, 'player_velocity_x': 0, 'player_velocity_y': 0, 'player_velocity_z': 0, 'player_rotation_x': 0, 'player_rotation_y': 0, 'player_rotation_z': 0, 'player_rotation_w': 1, 'player_angular_velocity_x': 0, 'player_angular_velocity_y': 0, 'player_angular_velocity_z': 0, 'diff': -1.2085914611816406, 'previous_diff': -1.0594797134399414, 'collied': False}, 'action': None, 'cmds': None}\n",
      "New observation step_id:5, env step_id:4.\n",
      "response:{'terminated': True}\n",
      "New Step ID 5\n"
     ]
    },
    {
     "data": {
      "text/plain": [
       "(array([ 1.78997815e+00,  1.45662928e+00,  1.65910661e+00,  0.00000000e+00,\n",
       "        -8.24039745e+00,  0.00000000e+00,  0.00000000e+00,  0.00000000e+00,\n",
       "         0.00000000e+00,  1.00000000e+00,  0.00000000e+00,  0.00000000e+00,\n",
       "         0.00000000e+00, -2.80259693e-44,  1.00000000e+00,  6.98108206e-21,\n",
       "         0.00000000e+00,  0.00000000e+00,  0.00000000e+00,  0.00000000e+00,\n",
       "         0.00000000e+00,  0.00000000e+00,  1.00000000e+00,  0.00000000e+00,\n",
       "         0.00000000e+00,  0.00000000e+00]),\n",
       " 0.0,\n",
       " True,\n",
       " False,\n",
       " {'episode': {'r': 0.0, 'l': 5, 't': 338.595167}})"
      ]
     },
     "execution_count": 27,
     "metadata": {},
     "output_type": "execute_result"
    }
   ],
   "source": [
    "env.step([0.0, 0.0, 0.0])"
   ]
  },
  {
   "cell_type": "code",
   "execution_count": null,
   "id": "7c276633-b4f0-441c-a2d5-c33b2d4d1893",
   "metadata": {},
   "outputs": [],
   "source": []
  }
 ],
 "metadata": {
  "kernelspec": {
   "display_name": "Python 3 (ipykernel)",
   "language": "python",
   "name": "python3"
  },
  "language_info": {
   "codemirror_mode": {
    "name": "ipython",
    "version": 3
   },
   "file_extension": ".py",
   "mimetype": "text/x-python",
   "name": "python",
   "nbconvert_exporter": "python",
   "pygments_lexer": "ipython3",
   "version": "3.11.5"
  }
 },
 "nbformat": 4,
 "nbformat_minor": 5
}
