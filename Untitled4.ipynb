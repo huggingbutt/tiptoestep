{
 "cells": [
  {
   "cell_type": "code",
   "execution_count": 1,
   "id": "202f667b-4fb0-4a2b-b41d-82cb0013a6cd",
   "metadata": {},
   "outputs": [],
   "source": [
    "from hbagent.action import ActionSerializer, ContinuousAction, CategoricalAction\n",
    "import mmap\n",
    "import numpy as np\n",
    "from hbagent.proto import Message, MessageSerializer, MessageType, StepType"
   ]
  },
  {
   "cell_type": "code",
   "execution_count": 36,
   "id": "4b713b72-b21f-42a2-b984-505ad3817f1c",
   "metadata": {},
   "outputs": [],
   "source": [
    "from hbagent.utils import StrDictionarySerializer"
   ]
  },
  {
   "cell_type": "code",
   "execution_count": 2,
   "id": "dd1d0bf2-4a00-411b-b001-9b0ea00d0c9a",
   "metadata": {},
   "outputs": [],
   "source": [
    "filename = \"/Users/admin/.cache/hbagent/0_1.mmf\""
   ]
  },
  {
   "cell_type": "code",
   "execution_count": 3,
   "id": "b0aa57fa-f4d1-4602-86ff-cc697bb48457",
   "metadata": {},
   "outputs": [],
   "source": [
    "file = open(filename, \"r+b\")"
   ]
  },
  {
   "cell_type": "code",
   "execution_count": 4,
   "id": "1af4e1e7-7caa-47fa-bc35-53968ca9a3d9",
   "metadata": {},
   "outputs": [],
   "source": [
    "mm = mmap.mmap(file.fileno(), 1024 * 16)"
   ]
  },
  {
   "cell_type": "code",
   "execution_count": 5,
   "id": "e0e13771-bd7b-46c9-8c0a-432485e89f24",
   "metadata": {},
   "outputs": [],
   "source": [
    "conAction = ContinuousAction(3)\n",
    "conAction[0] = 0.11111112\n",
    "conAction[1] = 0.2342342342\n",
    "conAction[2] = 0.3234234234"
   ]
  },
  {
   "cell_type": "code",
   "execution_count": null,
   "id": "97470473-9f0f-4a18-bec2-4ede88ade8ed",
   "metadata": {},
   "outputs": [],
   "source": [
    "bytes = ActionSerializer.serialize(conAction)"
   ]
  },
  {
   "cell_type": "code",
   "execution_count": null,
   "id": "c99e6ad9-7459-4c55-a4ca-4c9840fad4ed",
   "metadata": {},
   "outputs": [],
   "source": [
    "len(bytes)"
   ]
  },
  {
   "cell_type": "code",
   "execution_count": null,
   "id": "8dc6f0f7-1db4-417d-8811-850deaaa6b78",
   "metadata": {},
   "outputs": [],
   "source": [
    "mm[:17] = bytes"
   ]
  },
  {
   "cell_type": "code",
   "execution_count": null,
   "id": "d2ff37f3-0559-4491-99fa-42c9cb177abd",
   "metadata": {},
   "outputs": [],
   "source": [
    "act = ActionSerializer.deserialize(bytes)"
   ]
  },
  {
   "cell_type": "code",
   "execution_count": null,
   "id": "071aa655-adc1-49d7-b977-edbd4c7ad3bb",
   "metadata": {},
   "outputs": [],
   "source": [
    "type(act[0])"
   ]
  },
  {
   "cell_type": "code",
   "execution_count": null,
   "id": "b50f97a4-7379-4dbd-9043-eba53e7d2a09",
   "metadata": {},
   "outputs": [],
   "source": [
    "act.value"
   ]
  },
  {
   "cell_type": "code",
   "execution_count": null,
   "id": "8a053b2d-796d-48da-aa5c-27c74cffef3c",
   "metadata": {},
   "outputs": [],
   "source": [
    "catAction = CategoricalAction(0, 1, 2, 3)"
   ]
  },
  {
   "cell_type": "code",
   "execution_count": null,
   "id": "99bea42b-c872-44be-94df-507afd639a93",
   "metadata": {},
   "outputs": [],
   "source": [
    "catAction.value = 3"
   ]
  },
  {
   "cell_type": "code",
   "execution_count": null,
   "id": "52826be8-1f61-4553-9cf8-afa3f22a0a7e",
   "metadata": {},
   "outputs": [],
   "source": [
    "cat_act = ActionSerializer.serialize(catAction)"
   ]
  },
  {
   "cell_type": "code",
   "execution_count": null,
   "id": "6ed716e6-d593-453b-a434-d42e734558e3",
   "metadata": {},
   "outputs": [],
   "source": [
    "catAction.value"
   ]
  },
  {
   "cell_type": "code",
   "execution_count": null,
   "id": "f6343d37-aba1-4c7d-ae51-4c53c1894726",
   "metadata": {},
   "outputs": [],
   "source": [
    "len(cat_act)"
   ]
  },
  {
   "cell_type": "code",
   "execution_count": null,
   "id": "e530031c-a812-476b-8f5e-566f975dbb4d",
   "metadata": {},
   "outputs": [],
   "source": [
    "mm[:25] = cat_act"
   ]
  },
  {
   "cell_type": "code",
   "execution_count": 6,
   "id": "245a00a1-a3ea-4ec1-956b-7be2e730bb25",
   "metadata": {},
   "outputs": [],
   "source": [
    "msg = Message()"
   ]
  },
  {
   "cell_type": "code",
   "execution_count": 7,
   "id": "1a21b56e-f0d1-4728-8986-0dba00c4b7c0",
   "metadata": {},
   "outputs": [],
   "source": [
    "msg.pid = 123\n",
    "msg.env_id = 135\n",
    "msg.agent_id = 564\n",
    "msg.step_id = 3434\n",
    "msg.obs_frame_id = 12324\n",
    "msg.act_frame_id = 987\n",
    "msg.silent = False\n",
    "msg.message_type = MessageType.Control.value\n",
    "msg.step_type = StepType.Step.value"
   ]
  },
  {
   "cell_type": "code",
   "execution_count": 8,
   "id": "7cb9477f-1416-408b-a5d7-1b3320c9f501",
   "metadata": {},
   "outputs": [],
   "source": [
    "msg.action = conAction"
   ]
  },
  {
   "cell_type": "code",
   "execution_count": 9,
   "id": "41d2c897-95dd-4179-9b31-546544bda708",
   "metadata": {},
   "outputs": [],
   "source": [
    "cmds = {\n",
    "    're-entry' : 'yes',\n",
    "    'end' : 'false'\n",
    "}"
   ]
  },
  {
   "cell_type": "code",
   "execution_count": 10,
   "id": "780d6a6c-8737-4158-9ab6-d7049b2e37d3",
   "metadata": {},
   "outputs": [],
   "source": [
    "msg.cmds = cmds"
   ]
  },
  {
   "cell_type": "code",
   "execution_count": 11,
   "id": "d432ef59-c87c-4852-bb2a-1342802b77e0",
   "metadata": {},
   "outputs": [
    {
     "name": "stdout",
     "output_type": "stream",
     "text": [
      "54\n",
      "35\n",
      "97\n"
     ]
    }
   ],
   "source": [
    "data = MessageSerializer.serialize(msg)"
   ]
  },
  {
   "cell_type": "code",
   "execution_count": null,
   "id": "104e3ecc-ff2c-4679-a9fa-ecfea9560014",
   "metadata": {},
   "outputs": [],
   "source": [
    "import struct"
   ]
  },
  {
   "cell_type": "code",
   "execution_count": null,
   "id": "24103742-1d15-48dc-b6ad-560edaf855c6",
   "metadata": {},
   "outputs": [],
   "source": [
    "data"
   ]
  },
  {
   "cell_type": "code",
   "execution_count": null,
   "id": "f93661c5-2061-461c-9812-4ddba4baffd8",
   "metadata": {},
   "outputs": [],
   "source": [
    "a = struct.pack('I', 12)"
   ]
  },
  {
   "cell_type": "code",
   "execution_count": null,
   "id": "2c9482ae-325b-4c06-b65d-e25fca189036",
   "metadata": {},
   "outputs": [],
   "source": [
    "len(data)"
   ]
  },
  {
   "cell_type": "code",
   "execution_count": 12,
   "id": "30eb9d63-a8b5-4353-9007-355cac82f30f",
   "metadata": {},
   "outputs": [],
   "source": [
    "mm[:97] = data"
   ]
  },
  {
   "cell_type": "code",
   "execution_count": 13,
   "id": "01e7b429-6dd6-40b4-b14c-646605a1b3ae",
   "metadata": {},
   "outputs": [
    {
     "data": {
      "text/plain": [
       "b'z\\x00\\x00\\x00{\\x00\\x00\\x00\\x11\\x03\\x00\\x00A\\x05\\x00\\x00\\xf9\\xdd\\r\\x00|\\r\\x00\\x00\\x01\\x02\\x00\\x00\\x00\\x04\\x00\\x00\\x00\\x11\\x00\\x00\\x00\\x00\\x03\\x00\\x00\\x00\\xcd\\xcc\\xcc=\\xcd\\xccL>\\x9a\\x99\\x99>\"\\x00\\x00\\x00\\x05\\x00\\x00\\x00\\x05\\x00\\x00\\x00HelloWorld\\x03\\x00\\x00\\x00\\x05\\x00\\x00\\x00KeyValue\\xaa\\x00\\x00\\x00\\n\\x00\\x00\\x00\\nposition_x\\x00\\x00\\x00\\x00f\\x88\\xe3=\\n\\x00\\x00\\x00\\nposition_y\\x00\\x00\\x00\\x00\\xaeGa>\\n\\x00\\x00\\x00\\nposition_z\\x00\\x00\\x00\\x00\\xc3\\xf5\\xa8>\\x0f\\x00\\x00\\x00\\x0fball_position_x\\x00\\x00\\x00\\x00\\x8f\\xc2\\xf5=\\x0f\\x00\\x00\\x00\\x0fball_position_y\\x00\\x00\\x00\\x00\\x00\\x00\\x00\\x00\\x0f\\x00\\x00\\x00\\x0fball_position_z\\x00\\x00\\x00\\x00\\x00\\x00\\x00\\x00\\x07\\x00\\x00\\x00\\x07collied\\x01\\x00\\x00\\x00\\x01'"
      ]
     },
     "execution_count": 13,
     "metadata": {},
     "output_type": "execute_result"
    }
   ],
   "source": [
    "mm[:266]"
   ]
  },
  {
   "cell_type": "code",
   "execution_count": 14,
   "id": "0abb6756-50eb-4cbf-99c4-911e49e6983b",
   "metadata": {},
   "outputs": [],
   "source": [
    "import struct"
   ]
  },
  {
   "cell_type": "code",
   "execution_count": 15,
   "id": "b223f0a0-b1da-4030-ae47-82cd1fd1ee26",
   "metadata": {},
   "outputs": [],
   "source": [
    "data = mm[:266]"
   ]
  },
  {
   "cell_type": "code",
   "execution_count": 27,
   "id": "18360b3d-6008-4327-9284-fb53783bed2f",
   "metadata": {},
   "outputs": [],
   "source": [
    "msg = Message()\n",
    "msg.pid = np.uint32(struct.unpack('I', data[0:4])[0])\n",
    "msg.env_id = np.uint32(struct.unpack('I', data[4:8])[0])\n",
    "msg.agent_id = np.uint32(struct.unpack('I', data[8:12])[0])\n",
    "msg.step_id = np.uint32(struct.unpack('I', data[12:16])[0])\n",
    "msg.obs_frame_id = np.uint32(struct.unpack('I', data[16:20])[0])\n",
    "msg.act_frame_id = np.uint32(struct.unpack('I', data[20:24])[0])\n",
    "msg.silent = np.bool_(struct.unpack('?', data[24:25])[0])\n",
    "msg.message_type = np.uint32(struct.unpack('i', data[25:29])[0])\n",
    "msg.step_type = np.uint32(struct.unpack('i', data[29:33])[0])"
   ]
  },
  {
   "cell_type": "code",
   "execution_count": 28,
   "id": "09bc5dc4-15de-418e-8ed7-844168c22366",
   "metadata": {},
   "outputs": [
    {
     "data": {
      "text/plain": [
       "True"
      ]
     },
     "execution_count": 28,
     "metadata": {},
     "output_type": "execute_result"
    }
   ],
   "source": [
    "msg.silent"
   ]
  },
  {
   "cell_type": "code",
   "execution_count": 38,
   "id": "c9257082-c2a9-4463-84ba-1ef83dd317fe",
   "metadata": {},
   "outputs": [],
   "source": [
    "offset = 33\n",
    "action_len = np.int32(struct.unpack('i', data[offset:offset + 4])[0])\n",
    "offset += 4\n",
    "if action_len > 0:\n",
    "    msg.action = ActionSerializer.deserialize(data[offset:offset + action_len])\n",
    "    offset += action_len"
   ]
  },
  {
   "cell_type": "code",
   "execution_count": 39,
   "id": "542f4a78-fc3d-4acc-9975-30dd8d0e86e4",
   "metadata": {},
   "outputs": [
    {
     "data": {
      "text/plain": [
       "array([0.1, 0.2, 0.3], dtype=float32)"
      ]
     },
     "execution_count": 39,
     "metadata": {},
     "output_type": "execute_result"
    }
   ],
   "source": [
    "msg.action.value"
   ]
  },
  {
   "cell_type": "code",
   "execution_count": 40,
   "id": "94190bf6-8300-4b19-b495-9efd77221b2d",
   "metadata": {},
   "outputs": [],
   "source": [
    "cmds_len = np.int32(struct.unpack('i', data[offset:offset + 4])[0])\n",
    "offset += 4\n",
    "if cmds_len > 0:\n",
    "    msg.cmds = StrDictionarySerializer.deserialize(data[offset:offset + cmds_len])\n",
    "    offset += cmds_len"
   ]
  },
  {
   "cell_type": "code",
   "execution_count": 41,
   "id": "ea62edb8-14fc-4721-bd52-aa48b8b8caf4",
   "metadata": {},
   "outputs": [
    {
     "data": {
      "text/plain": [
       "{'Hello': 'World', 'Key': 'Value'}"
      ]
     },
     "execution_count": 41,
     "metadata": {},
     "output_type": "execute_result"
    }
   ],
   "source": [
    "msg.cmds"
   ]
  },
  {
   "cell_type": "code",
   "execution_count": 42,
   "id": "1bf5f01c-6b83-4c4b-a4ac-271feb5c980b",
   "metadata": {},
   "outputs": [],
   "source": [
    "obs_len = np.int32(struct.unpack('i', data[offset:offset + 4])[0])\n",
    "offset += 4"
   ]
  },
  {
   "cell_type": "code",
   "execution_count": 49,
   "id": "66afdb07-ec84-4ad8-a1e8-1b304148cbd2",
   "metadata": {},
   "outputs": [
    {
     "ename": "ValueError",
     "evalue": "Unknown type identifier encountered.",
     "output_type": "error",
     "traceback": [
      "\u001b[0;31m---------------------------------------------------------------------------\u001b[0m",
      "\u001b[0;31mValueError\u001b[0m                                Traceback (most recent call last)",
      "Cell \u001b[0;32mIn[49], line 1\u001b[0m\n\u001b[0;32m----> 1\u001b[0m \u001b[43mdeserialize_from_bytes\u001b[49m\u001b[43m(\u001b[49m\u001b[43mdata\u001b[49m\u001b[43m[\u001b[49m\u001b[43moffset\u001b[49m\u001b[43m:\u001b[49m\u001b[43m \u001b[49m\u001b[43moffset\u001b[49m\u001b[43m \u001b[49m\u001b[38;5;241;43m+\u001b[39;49m\u001b[43m \u001b[49m\u001b[43mobs_len\u001b[49m\u001b[43m]\u001b[49m\u001b[43m)\u001b[49m\n",
      "Cell \u001b[0;32mIn[47], line 26\u001b[0m, in \u001b[0;36mdeserialize_from_bytes\u001b[0;34m(byte_array)\u001b[0m\n\u001b[1;32m     24\u001b[0m     value \u001b[38;5;241m=\u001b[39m \u001b[38;5;28mbool\u001b[39m\u001b[38;5;241m.\u001b[39mfrom_bytes(stream\u001b[38;5;241m.\u001b[39mread(\u001b[38;5;241m1\u001b[39m), byteorder\u001b[38;5;241m=\u001b[39m\u001b[38;5;124m'\u001b[39m\u001b[38;5;124mlittle\u001b[39m\u001b[38;5;124m'\u001b[39m)\n\u001b[1;32m     25\u001b[0m \u001b[38;5;28;01melse\u001b[39;00m:\n\u001b[0;32m---> 26\u001b[0m     \u001b[38;5;28;01mraise\u001b[39;00m \u001b[38;5;167;01mValueError\u001b[39;00m(\u001b[38;5;124m\"\u001b[39m\u001b[38;5;124mUnknown type identifier encountered.\u001b[39m\u001b[38;5;124m\"\u001b[39m)\n\u001b[1;32m     28\u001b[0m \u001b[38;5;66;03m# Add the property and its value to the dictionary\u001b[39;00m\n\u001b[1;32m     29\u001b[0m deserialized_data[pname] \u001b[38;5;241m=\u001b[39m value\n",
      "\u001b[0;31mValueError\u001b[0m: Unknown type identifier encountered."
     ]
    }
   ],
   "source": [
    "deserialize_from_bytes(data[offset: offset + obs_len])"
   ]
  },
  {
   "cell_type": "code",
   "execution_count": 47,
   "id": "aedbff4f-bd6b-425f-81f7-4e96b6a9d08c",
   "metadata": {},
   "outputs": [],
   "source": [
    "import io\n",
    "def deserialize_from_bytes(byte_array):\n",
    "    \"\"\"\n",
    "    Deserializes a byte array into a dictionary representing all public properites of an inheriting class \n",
    "    from Observation.\n",
    "    The byte array must follow the structure defined in the C# SerializeToBytes method.\n",
    "    \"\"\"\n",
    "    deserialized_data = {}\n",
    "\n",
    "    with io.BytesIO(byte_array) as stream:\n",
    "        while stream.tell() < len(byte_array):\n",
    "            # Read the length of the property name\n",
    "            name_length = int.from_bytes(stream.read(4), byteorder='little')\n",
    "\n",
    "            # Read the property name\n",
    "            pname = stream.read(name_length).decode('utf-8')\n",
    "\n",
    "            # Read the type identifier\n",
    "            type_identifier = int.from_bytes(stream.read(4), byteorder='little')\n",
    "\n",
    "            # Depending on the type identifier, read the value\n",
    "            if type_identifier == 0:  # float\n",
    "                value = float.from_bytes(stream.read(4), byteorder='little', signed=True)\n",
    "            elif type_identifier == 1:  # bool\n",
    "                value = bool.from_bytes(stream.read(1), byteorder='little')\n",
    "            else:\n",
    "                raise ValueError(\"Unknown type identifier encountered.\")\n",
    "\n",
    "            # Add the property and its value to the dictionary\n",
    "            deserialized_data[pname] = value\n",
    "\n",
    "    return deserialized_data"
   ]
  },
  {
   "cell_type": "code",
   "execution_count": null,
   "id": "1678ad14-5cfb-4fde-9afc-728bab1045bf",
   "metadata": {},
   "outputs": [],
   "source": []
  }
 ],
 "metadata": {
  "kernelspec": {
   "display_name": "Python 3 (ipykernel)",
   "language": "python",
   "name": "python3"
  },
  "language_info": {
   "codemirror_mode": {
    "name": "ipython",
    "version": 3
   },
   "file_extension": ".py",
   "mimetype": "text/x-python",
   "name": "python",
   "nbconvert_exporter": "python",
   "pygments_lexer": "ipython3",
   "version": "3.11.5"
  }
 },
 "nbformat": 4,
 "nbformat_minor": 5
}
