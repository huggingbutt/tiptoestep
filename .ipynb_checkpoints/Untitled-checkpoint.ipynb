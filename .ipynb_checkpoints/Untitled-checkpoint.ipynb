{
 "cells": [
  {
   "cell_type": "code",
   "execution_count": 1,
   "id": "b0aa4113-2fe3-4b27-b84b-d51bed58bb76",
   "metadata": {},
   "outputs": [],
   "source": [
    "from hbagent.env import Env"
   ]
  },
  {
   "cell_type": "code",
   "execution_count": 2,
   "id": "a7107c86-3217-4bf1-9ad7-858d868411e4",
   "metadata": {},
   "outputs": [
    {
     "name": "stdout",
     "output_type": "stream",
     "text": [
      "{'pid': 0, 'env_id': 0, 'agent_id': 0, 'step_id': 0, 'obs_frame_id': 0, 'act_frame_id': 0, 'silent': False, 'message_type': 2, 'step_type': 0, 'observation': None, 'action': None, 'cmds': None}\n"
     ]
    }
   ],
   "source": [
    "env = Env(pid=1, env_id=1)"
   ]
  },
  {
   "cell_type": "code",
   "execution_count": 3,
   "id": "d5dd4c58-de1c-419b-ac66-990c1ba8fb25",
   "metadata": {},
   "outputs": [],
   "source": [
    "obs, info = env.reset()"
   ]
  },
  {
   "cell_type": "code",
   "execution_count": 6,
   "id": "25ff6aa1-da02-47bc-a9b8-4a7a3da618ef",
   "metadata": {},
   "outputs": [
    {
     "ename": "AttributeError",
     "evalue": "'Env' object has no attribute 'agent_id'",
     "output_type": "error",
     "traceback": [
      "\u001b[0;31m---------------------------------------------------------------------------\u001b[0m",
      "\u001b[0;31mAttributeError\u001b[0m                            Traceback (most recent call last)",
      "Cell \u001b[0;32mIn[6], line 1\u001b[0m\n\u001b[0;32m----> 1\u001b[0m obs, reward, terminated, truncated, info \u001b[38;5;241m=\u001b[39m \u001b[43menv\u001b[49m\u001b[38;5;241;43m.\u001b[39;49m\u001b[43mstep\u001b[49m\u001b[43m(\u001b[49m\u001b[43m[\u001b[49m\u001b[38;5;241;43m-\u001b[39;49m\u001b[38;5;241;43m1.0\u001b[39;49m\u001b[43m,\u001b[49m\u001b[43m \u001b[49m\u001b[38;5;241;43m1.0\u001b[39;49m\u001b[43m]\u001b[49m\u001b[43m)\u001b[49m\n",
      "File \u001b[0;32m~/codes/opensources/hbagent/hbagent/env.py:80\u001b[0m, in \u001b[0;36mEnv.step\u001b[0;34m(self, action)\u001b[0m\n\u001b[1;32m     78\u001b[0m act_msg\u001b[38;5;241m.\u001b[39mpid \u001b[38;5;241m=\u001b[39m \u001b[38;5;28mself\u001b[39m\u001b[38;5;241m.\u001b[39mpid\n\u001b[1;32m     79\u001b[0m act_msg\u001b[38;5;241m.\u001b[39menv_id \u001b[38;5;241m=\u001b[39m \u001b[38;5;28mself\u001b[39m\u001b[38;5;241m.\u001b[39menv_id\n\u001b[0;32m---> 80\u001b[0m act_msg\u001b[38;5;241m.\u001b[39magent_id \u001b[38;5;241m=\u001b[39m \u001b[38;5;28;43mself\u001b[39;49m\u001b[38;5;241;43m.\u001b[39;49m\u001b[43magent_id\u001b[49m\n\u001b[1;32m     81\u001b[0m act_msg\u001b[38;5;241m.\u001b[39mmessage_type \u001b[38;5;241m=\u001b[39m MessageType\u001b[38;5;241m.\u001b[39mAction\u001b[38;5;241m.\u001b[39mvalue\n\u001b[1;32m     82\u001b[0m act_msg\u001b[38;5;241m.\u001b[39mstep_type \u001b[38;5;241m=\u001b[39m StepType\u001b[38;5;241m.\u001b[39mStep\u001b[38;5;241m.\u001b[39mvalue\n",
      "\u001b[0;31mAttributeError\u001b[0m: 'Env' object has no attribute 'agent_id'"
     ]
    }
   ],
   "source": [
    "obs, reward, terminated, truncated, info = env.step([-1.0, 1.0])"
   ]
  },
  {
   "cell_type": "code",
   "execution_count": null,
   "id": "8c765fcb-cdd4-4453-aef1-435a4bc01dc7",
   "metadata": {},
   "outputs": [],
   "source": []
  }
 ],
 "metadata": {
  "kernelspec": {
   "display_name": "Python 3 (ipykernel)",
   "language": "python",
   "name": "python3"
  },
  "language_info": {
   "codemirror_mode": {
    "name": "ipython",
    "version": 3
   },
   "file_extension": ".py",
   "mimetype": "text/x-python",
   "name": "python",
   "nbconvert_exporter": "python",
   "pygments_lexer": "ipython3",
   "version": "3.9.18"
  }
 },
 "nbformat": 4,
 "nbformat_minor": 5
}
