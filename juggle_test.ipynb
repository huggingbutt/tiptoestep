{
 "cells": [
  {
   "cell_type": "code",
   "execution_count": 1,
   "id": "3ee29ee2-0439-4991-910a-bcbefc497e4c",
   "metadata": {},
   "outputs": [],
   "source": [
    "from hbagent.messenger import Messenger\n",
    "from hbagent.action import ContinuousAction\n",
    "import pandas as pd\n",
    "import redis"
   ]
  },
  {
   "cell_type": "markdown",
   "id": "180ca70e-5268-41e1-93fe-cc725056c37d",
   "metadata": {},
   "source": [
    "Check if the current environment in Unity Editor is ready for communication with Python client."
   ]
  },
  {
   "cell_type": "code",
   "execution_count": 2,
   "id": "b441d6b7-78de-4f5e-958d-40169f744c70",
   "metadata": {},
   "outputs": [],
   "source": [
    "pid = 1\n",
    "env_id = 1\n",
    "env_obs_key = f\"hb_observation_{pid}_{env_id}\"\n",
    "env_act_key = f\"hb_action_{pid}_{env_id}\"\n",
    "env_accident_key = f\"hb_accident_{pid}_{env_id}\""
   ]
  },
  {
   "cell_type": "code",
   "execution_count": null,
   "id": "93b53d4b-baae-4a47-9786-1c4a2c2d6905",
   "metadata": {},
   "outputs": [],
   "source": [
    "messager = Messenger()"
   ]
  },
  {
   "cell_type": "code",
   "execution_count": null,
   "id": "e9bf454e-0a0d-4660-807b-f65bc5fb4589",
   "metadata": {},
   "outputs": [],
   "source": [
    "if messager.is_ready(env_obs_key, env_accident_key):\n",
    "    print(\"Current is ready\")"
   ]
  },
  {
   "cell_type": "code",
   "execution_count": 3,
   "id": "bdcdccbf-435a-4b97-b060-0bca8dd3f0d0",
   "metadata": {},
   "outputs": [],
   "source": [
    "r = redis.Redis(host='localhost', port=6379)"
   ]
  },
  {
   "cell_type": "code",
   "execution_count": 20,
   "id": "48df7747-a1d3-462e-bb27-1ecdff3634d4",
   "metadata": {},
   "outputs": [
    {
     "data": {
      "text/plain": [
       "True"
      ]
     },
     "execution_count": 20,
     "metadata": {},
     "output_type": "execute_result"
    }
   ],
   "source": [
    "r.flushall()"
   ]
  },
  {
   "cell_type": "code",
   "execution_count": 21,
   "id": "f284c929-46c5-4db0-a91b-c739bd895342",
   "metadata": {},
   "outputs": [
    {
     "data": {
      "text/plain": [
       "[]"
      ]
     },
     "execution_count": 21,
     "metadata": {},
     "output_type": "execute_result"
    }
   ],
   "source": [
    "r.keys('*')"
   ]
  },
  {
   "cell_type": "code",
   "execution_count": 5,
   "id": "9662e11a-b428-42a2-b5cf-b4f8d304528d",
   "metadata": {},
   "outputs": [
    {
     "data": {
      "text/plain": [
       "b'{\"pid\":0,\"env_id\":0,\"agent_id\":0,\"step_id\":0,\"obs_frame_id\":0,\"act_frame_id\":0,\"silent\":false,\"message_type\":2,\"step_type\":3,\"observation\":null,\"action\":null,\"cmds\":null}'"
      ]
     },
     "execution_count": 5,
     "metadata": {},
     "output_type": "execute_result"
    }
   ],
   "source": [
    "r.lpop('hb_accident_1_1')"
   ]
  },
  {
   "cell_type": "code",
   "execution_count": null,
   "id": "e4f6eadf-ebe2-49a9-83ed-19cbbea0cc47",
   "metadata": {},
   "outputs": [],
   "source": [
    "r.lrange('hb_observation_1_1', 0, 0)"
   ]
  },
  {
   "cell_type": "markdown",
   "id": "fc337d41-157d-49c7-a9b5-bc3d1ac29144",
   "metadata": {},
   "source": [
    "Reset current environment"
   ]
  },
  {
   "cell_type": "code",
   "execution_count": null,
   "id": "387b86d2-c048-4793-a7a4-523f068ee092",
   "metadata": {},
   "outputs": [],
   "source": [
    "messager.send_reset(env_act_key, 1, {})"
   ]
  },
  {
   "cell_type": "markdown",
   "id": "82c5af14-1761-441f-8827-f1b12206e5ca",
   "metadata": {},
   "source": [
    "We will get the first observation after we reset the current environment."
   ]
  },
  {
   "cell_type": "code",
   "execution_count": null,
   "id": "bab8ed66-1400-44ad-bfdc-97e7110198df",
   "metadata": {},
   "outputs": [],
   "source": [
    "received_message = messager.receive(env_obs_key, env_accident_key, check_obs=True)"
   ]
  },
  {
   "cell_type": "code",
   "execution_count": null,
   "id": "1d5a2cd3-50a2-4703-bf29-bafdbb37cb97",
   "metadata": {},
   "outputs": [],
   "source": [
    "obs = []"
   ]
  },
  {
   "cell_type": "code",
   "execution_count": null,
   "id": "ea84cff5-4a75-4424-a640-b107036fd247",
   "metadata": {},
   "outputs": [],
   "source": [
    "obs.append(received_message['observation'])"
   ]
  },
  {
   "cell_type": "markdown",
   "id": "0e2bcfaa-9de7-4df4-a20e-5aea16c1a974",
   "metadata": {},
   "source": [
    "Send first action base one the observation received."
   ]
  },
  {
   "cell_type": "code",
   "execution_count": null,
   "id": "c667b440-753c-4815-8261-4a172d4ec740",
   "metadata": {},
   "outputs": [],
   "source": [
    "con_action = ContinuousAction(3)"
   ]
  },
  {
   "cell_type": "code",
   "execution_count": null,
   "id": "c2988715-5022-4337-b7d5-6745d15f214d",
   "metadata": {},
   "outputs": [],
   "source": [
    "con_action.value = [0.0, 0.0, 0]"
   ]
  },
  {
   "cell_type": "code",
   "execution_count": null,
   "id": "2ce3fbde-9a90-442d-a373-52580a4d1ddc",
   "metadata": {},
   "outputs": [],
   "source": [
    "for i in range(150):\n",
    "    messager.send_action(env_act_key, 1, 0, con_action, {})\n",
    "    received_message = messager.receive(env_obs_key, env_accident_key, check_obs=True)\n",
    "    obs.append(received_message['observation'])"
   ]
  },
  {
   "cell_type": "code",
   "execution_count": null,
   "id": "677b7a0f-1ead-4a3f-ae54-8e3b5626e569",
   "metadata": {},
   "outputs": [],
   "source": [
    "obs_df = pd.DataFrame(obs)"
   ]
  },
  {
   "cell_type": "code",
   "execution_count": null,
   "id": "0ad61b5e-424a-46e8-93ab-96ad6d1fd7d5",
   "metadata": {},
   "outputs": [],
   "source": [
    "obs_df[['ball_position_y', 'player_position_y', 'player_position_y', 'player_position_z', 'diff', 'previous_diff', 'collied']]"
   ]
  },
  {
   "cell_type": "code",
   "execution_count": null,
   "id": "8ec4a378-3e9c-4538-b130-7436f53a8760",
   "metadata": {},
   "outputs": [],
   "source": [
    "obs_df[['ball_position_y', 'player_position_y', 'player_position_y', 'player_position_z', 'diff', 'previous_diff', 'collied']].to_clipboard()"
   ]
  },
  {
   "cell_type": "code",
   "execution_count": null,
   "id": "9b77c1d7-9bac-4db5-a30f-d547e0c5816c",
   "metadata": {},
   "outputs": [],
   "source": [
    "type(received_message['observation']['collied'])"
   ]
  },
  {
   "cell_type": "code",
   "execution_count": null,
   "id": "ab01bf6c-ee22-4534-8c1b-000e427e77ed",
   "metadata": {},
   "outputs": [],
   "source": [
    "received_message"
   ]
  },
  {
   "cell_type": "code",
   "execution_count": null,
   "id": "a1772f58-f26a-4993-b5da-742004566da0",
   "metadata": {},
   "outputs": [],
   "source": [
    "for k in received_message['observation'].keys():\n",
    "    print(k)"
   ]
  },
  {
   "cell_type": "code",
   "execution_count": 11,
   "id": "c19a1a25-8e10-40f6-9947-fbf9c6fc272c",
   "metadata": {},
   "outputs": [
    {
     "ename": "NameError",
     "evalue": "name 'received_message' is not defined",
     "output_type": "error",
     "traceback": [
      "\u001b[0;31m---------------------------------------------------------------------------\u001b[0m",
      "\u001b[0;31mNameError\u001b[0m                                 Traceback (most recent call last)",
      "Cell \u001b[0;32mIn[11], line 1\u001b[0m\n\u001b[0;32m----> 1\u001b[0m \u001b[43mreceived_message\u001b[49m\n",
      "\u001b[0;31mNameError\u001b[0m: name 'received_message' is not defined"
     ]
    }
   ],
   "source": [
    "received_message"
   ]
  },
  {
   "cell_type": "code",
   "execution_count": null,
   "id": "6b297b5d-3337-4c78-9a82-511478495903",
   "metadata": {},
   "outputs": [],
   "source": []
  }
 ],
 "metadata": {
  "kernelspec": {
   "display_name": "Python 3 (ipykernel)",
   "language": "python",
   "name": "python3"
  },
  "language_info": {
   "codemirror_mode": {
    "name": "ipython",
    "version": 3
   },
   "file_extension": ".py",
   "mimetype": "text/x-python",
   "name": "python",
   "nbconvert_exporter": "python",
   "pygments_lexer": "ipython3",
   "version": "3.11.5"
  }
 },
 "nbformat": 4,
 "nbformat_minor": 5
}
