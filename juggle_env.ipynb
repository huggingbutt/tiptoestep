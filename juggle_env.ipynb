{
 "cells": [
  {
   "cell_type": "code",
   "execution_count": null,
   "id": "09135338-65d9-420c-a69d-f89c2b7a470e",
   "metadata": {},
   "outputs": [],
   "source": [
    "from  hbagent.env import Env\n",
    "from hbagent.agent import Agent\n",
    "from stable_baselines3.common.monitor import Monitor"
   ]
  },
  {
   "cell_type": "code",
   "execution_count": null,
   "id": "859d2de6-d982-4d2a-bb85-a73613381024",
   "metadata": {},
   "outputs": [],
   "source": [
    "agent = Agent(0)"
   ]
  },
  {
   "cell_type": "code",
   "execution_count": null,
   "id": "4707a405-5d58-48d5-9153-0261ac4f7d00",
   "metadata": {},
   "outputs": [],
   "source": [
    "exe_file = \"/Users/admin/libs/Juggle/juggle.app/Contents/MacOS/roller_ball\""
   ]
  },
  {
   "cell_type": "code",
   "execution_count": null,
   "id": "ae852515-31ba-4121-80e2-b98f4841064a",
   "metadata": {},
   "outputs": [],
   "source": [
    "def make_env(pid):\n",
    "    def _init():\n",
    "        env = Monitor(Env(pid=pid, env_id=1, agent=agent, exe_file=exe_file))\n",
    "        return env\n",
    "    return _init"
   ]
  },
  {
   "cell_type": "code",
   "execution_count": null,
   "id": "e208bbec-37fd-4f61-a8a8-08f3eed1eb4b",
   "metadata": {},
   "outputs": [],
   "source": [
    "env = Monitor(Env(pid=0, env_id=1, agent=agent, exe_file=exe_file))"
   ]
  },
  {
   "cell_type": "code",
   "execution_count": null,
   "id": "b69f2809-9ecf-4a6d-830a-e4670748efb6",
   "metadata": {},
   "outputs": [],
   "source": [
    "env.reset()"
   ]
  },
  {
   "cell_type": "code",
   "execution_count": null,
   "id": "6dee7260-2cf7-4a43-b747-a4c2681ae856",
   "metadata": {},
   "outputs": [],
   "source": [
    "env.step([10.0, 0.0, 0.0])"
   ]
  },
  {
   "cell_type": "code",
   "execution_count": null,
   "id": "7c276633-b4f0-441c-a2d5-c33b2d4d1893",
   "metadata": {},
   "outputs": [],
   "source": [
    "env.close()"
   ]
  },
  {
   "cell_type": "code",
   "execution_count": null,
   "id": "49fba422-f64d-48b5-ab56-78635399bc54",
   "metadata": {},
   "outputs": [],
   "source": []
  }
 ],
 "metadata": {
  "kernelspec": {
   "display_name": "Python 3 (ipykernel)",
   "language": "python",
   "name": "python3"
  },
  "language_info": {
   "codemirror_mode": {
    "name": "ipython",
    "version": 3
   },
   "file_extension": ".py",
   "mimetype": "text/x-python",
   "name": "python",
   "nbconvert_exporter": "python",
   "pygments_lexer": "ipython3",
   "version": "3.11.5"
  }
 },
 "nbformat": 4,
 "nbformat_minor": 5
}
