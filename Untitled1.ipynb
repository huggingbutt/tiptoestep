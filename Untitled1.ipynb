{
 "cells": [
  {
   "cell_type": "code",
   "execution_count": null,
   "id": "82e5c60b-d914-4c6f-b0d0-1636b133907c",
   "metadata": {},
   "outputs": [],
   "source": [
    "import redis"
   ]
  },
  {
   "cell_type": "code",
   "execution_count": null,
   "id": "20a508ee-1e58-446b-b6bc-d4008d9c9578",
   "metadata": {},
   "outputs": [],
   "source": [
    "r = redis.Redis(host='localhost', port=6379)"
   ]
  },
  {
   "cell_type": "code",
   "execution_count": null,
   "id": "8aef3fa6-044c-489b-a5d4-1950e38c60af",
   "metadata": {},
   "outputs": [],
   "source": [
    "r.llen('hb_observation_123_456')"
   ]
  },
  {
   "cell_type": "code",
   "execution_count": null,
   "id": "e6e3e539-7b20-4a6c-8654-b48a0363b482",
   "metadata": {},
   "outputs": [],
   "source": [
    "r.lpop('hb_observation_123_456')"
   ]
  },
  {
   "cell_type": "code",
   "execution_count": 1,
   "id": "3c6c0d8c-e818-443a-845c-0b5a90957f3c",
   "metadata": {},
   "outputs": [],
   "source": [
    "import subprocess"
   ]
  },
  {
   "cell_type": "code",
   "execution_count": 2,
   "id": "460bf74a-e31f-4816-aa84-f6bbb484672c",
   "metadata": {},
   "outputs": [],
   "source": [
    "class UnityController:\n",
    "    def __init__(self, unity_executable_path):\n",
    "        self.unity_executable_path = unity_executable_path\n",
    "        self.process = None\n",
    "\n",
    "    def start_unity(self):\n",
    "        # Start the Unity application as a subprocess\n",
    "        self.process = subprocess.Popen(self.unity_executable_path, stdout=subprocess.PIPE, stderr=subprocess.PIPE)\n",
    "\n",
    "    def stop_unity(self):\n",
    "        # Terminate the Unity subprocess\n",
    "        if self.process is not None:\n",
    "            self.process.terminate()\n",
    "            self.process.wait()  # Wait for the process to terminate\n",
    "\n",
    "    def send_command(self, command):\n",
    "        # Send a command to the Unity application if it accepts input via stdin\n",
    "        if self.process is not None:\n",
    "            self.process.stdin.write(command.encode())\n",
    "            self.process.stdin.flush()\n",
    "\n",
    "    def read_output(self):\n",
    "        # Read the output from the Unity application\n",
    "        if self.process is not None:\n",
    "            return self.process.stdout.readline()"
   ]
  },
  {
   "cell_type": "code",
   "execution_count": 3,
   "id": "caadd601-c308-4a97-84c9-3fa697036ce6",
   "metadata": {},
   "outputs": [],
   "source": [
    "# Usage\n",
    "unity_executable_path = ['/Users/admin/codes/csharp/hbagent/roller_ball_2/build.app/Contents/MacOS/roller_ball', '-pid=1', '-env_id=1']"
   ]
  },
  {
   "cell_type": "code",
   "execution_count": 4,
   "id": "a7afe2aa-61aa-44cd-841a-6595f82d019a",
   "metadata": {},
   "outputs": [],
   "source": [
    "controller = UnityController(unity_executable_path)"
   ]
  },
  {
   "cell_type": "code",
   "execution_count": 5,
   "id": "648001f8-fca8-4a98-be20-70a712694499",
   "metadata": {},
   "outputs": [],
   "source": [
    "controller.start_unity()"
   ]
  },
  {
   "cell_type": "code",
   "execution_count": 18,
   "id": "ac07dd63-d7ae-41ec-876f-9f79d78f181e",
   "metadata": {},
   "outputs": [],
   "source": [
    "output = controller.read_output()"
   ]
  },
  {
   "cell_type": "code",
   "execution_count": 19,
   "id": "7eb89acf-b3d3-4e79-a806-792760921384",
   "metadata": {},
   "outputs": [
    {
     "data": {
      "text/plain": [
       "b'    \"memorysetup-thread-allocator-block-size=16777216\"\\n'"
      ]
     },
     "execution_count": 19,
     "metadata": {},
     "output_type": "execute_result"
    }
   ],
   "source": [
    "output"
   ]
  },
  {
   "cell_type": "code",
   "execution_count": 20,
   "id": "96f0356b-5642-4616-a61e-6b60d753f74f",
   "metadata": {},
   "outputs": [],
   "source": [
    "# Now you can interact with the Unity application, for example:\n",
    "# controller.send_command(\"your_command_here\")\n",
    "# output = controller.read_output()\n",
    "# print(output)\n",
    "\n",
    "# Don't forget to stop the Unity application when done\n",
    "controller.stop_unity()"
   ]
  },
  {
   "cell_type": "code",
   "execution_count": null,
   "id": "599eecd6-de11-478c-a4e4-f7e518787940",
   "metadata": {},
   "outputs": [],
   "source": []
  }
 ],
 "metadata": {
  "kernelspec": {
   "display_name": "Python 3 (ipykernel)",
   "language": "python",
   "name": "python3"
  },
  "language_info": {
   "codemirror_mode": {
    "name": "ipython",
    "version": 3
   },
   "file_extension": ".py",
   "mimetype": "text/x-python",
   "name": "python",
   "nbconvert_exporter": "python",
   "pygments_lexer": "ipython3",
   "version": "3.11.5"
  }
 },
 "nbformat": 4,
 "nbformat_minor": 5
}
